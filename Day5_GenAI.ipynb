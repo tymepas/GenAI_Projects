{
  "nbformat": 4,
  "nbformat_minor": 0,
  "metadata": {
    "colab": {
      "provenance": []
    },
    "kernelspec": {
      "name": "python3",
      "display_name": "Python 3"
    },
    "language_info": {
      "name": "python"
    }
  },
  "cells": [
    {
      "cell_type": "code",
      "execution_count": 51,
      "metadata": {
        "id": "4DU-DD1UQYFd"
      },
      "outputs": [],
      "source": [
        "## Step 1 Download the Dataset from the GIthub ['https://raw.githubusercontent.com/DataScience75/Top_mentor_projects_Datasets/refs/heads/main/customer_reviews.csv']\n",
        "\n",
        "## Step 2: Create an API Key in Groq and Save in the Notepad\n",
        "\n",
        "### Installation  - Create requirement.txt file"
      ]
    },
    {
      "cell_type": "code",
      "source": [
        "#! pip install faiss-cpu groq\n",
        "#!pip install python-dotenv\n"
      ],
      "metadata": {
        "colab": {
          "base_uri": "https://localhost:8080/"
        },
        "id": "5Bupl2adWXW9",
        "outputId": "5999cb7a-61ce-42b6-b28c-829489b08f3b"
      },
      "execution_count": 52,
      "outputs": [
        {
          "output_type": "stream",
          "name": "stdout",
          "text": [
            "Requirement already satisfied: python-dotenv in /usr/local/lib/python3.12/dist-packages (1.1.1)\n"
          ]
        }
      ]
    },
    {
      "cell_type": "code",
      "source": [
        "import pandas as pd\n",
        "import numpy as np\n",
        "import faiss\n",
        "from sentence_transformers import SentenceTransformer\n",
        "from sklearn.metrics import precision_score\n",
        "from groq import Groq\n",
        "from dotenv import load_dotenv\n",
        "import os\n",
        "import re"
      ],
      "metadata": {
        "id": "szWrERjrW63x"
      },
      "execution_count": 53,
      "outputs": []
    },
    {
      "cell_type": "code",
      "source": [
        "client = Groq(api_key='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')"
      ],
      "metadata": {
        "id": "qlGDMYqpXrIm"
      },
      "execution_count": 54,
      "outputs": []
    },
    {
      "cell_type": "code",
      "source": [
        "## Load the dataset and read some rows\n",
        "\n",
        "df = pd.read_csv('https://raw.githubusercontent.com/DataScience75/Top_mentor_projects_Datasets/refs/heads/main/customer_reviews.csv')\n",
        "df.head()\n"
      ],
      "metadata": {
        "colab": {
          "base_uri": "https://localhost:8080/",
          "height": 206
        },
        "id": "zh-A9XddEmvd",
        "outputId": "8f0803cd-ffee-40b8-dfe9-de63693ddf76"
      },
      "execution_count": 55,
      "outputs": [
        {
          "output_type": "execute_result",
          "data": {
            "text/plain": [
              "   review_id product_id                                        review_text  \\\n",
              "0          1       P101  Excellent battery life and superb camera quali...   \n",
              "1          2       P101  The phone lasts two days on a single charge, g...   \n",
              "2          3       P101         Battery is good but the screen is average.   \n",
              "3          4       P101      Amazing camera but the design feels outdated.   \n",
              "4          5       P101                 Very reliable battery performance.   \n",
              "\n",
              "   rating  \n",
              "0       5  \n",
              "1       5  \n",
              "2       4  \n",
              "3       4  \n",
              "4       5  "
            ],
            "text/html": [
              "\n",
              "  <div id=\"df-bac089dc-741f-4992-8548-c9dd71093c30\" class=\"colab-df-container\">\n",
              "    <div>\n",
              "<style scoped>\n",
              "    .dataframe tbody tr th:only-of-type {\n",
              "        vertical-align: middle;\n",
              "    }\n",
              "\n",
              "    .dataframe tbody tr th {\n",
              "        vertical-align: top;\n",
              "    }\n",
              "\n",
              "    .dataframe thead th {\n",
              "        text-align: right;\n",
              "    }\n",
              "</style>\n",
              "<table border=\"1\" class=\"dataframe\">\n",
              "  <thead>\n",
              "    <tr style=\"text-align: right;\">\n",
              "      <th></th>\n",
              "      <th>review_id</th>\n",
              "      <th>product_id</th>\n",
              "      <th>review_text</th>\n",
              "      <th>rating</th>\n",
              "    </tr>\n",
              "  </thead>\n",
              "  <tbody>\n",
              "    <tr>\n",
              "      <th>0</th>\n",
              "      <td>1</td>\n",
              "      <td>P101</td>\n",
              "      <td>Excellent battery life and superb camera quali...</td>\n",
              "      <td>5</td>\n",
              "    </tr>\n",
              "    <tr>\n",
              "      <th>1</th>\n",
              "      <td>2</td>\n",
              "      <td>P101</td>\n",
              "      <td>The phone lasts two days on a single charge, g...</td>\n",
              "      <td>5</td>\n",
              "    </tr>\n",
              "    <tr>\n",
              "      <th>2</th>\n",
              "      <td>3</td>\n",
              "      <td>P101</td>\n",
              "      <td>Battery is good but the screen is average.</td>\n",
              "      <td>4</td>\n",
              "    </tr>\n",
              "    <tr>\n",
              "      <th>3</th>\n",
              "      <td>4</td>\n",
              "      <td>P101</td>\n",
              "      <td>Amazing camera but the design feels outdated.</td>\n",
              "      <td>4</td>\n",
              "    </tr>\n",
              "    <tr>\n",
              "      <th>4</th>\n",
              "      <td>5</td>\n",
              "      <td>P101</td>\n",
              "      <td>Very reliable battery performance.</td>\n",
              "      <td>5</td>\n",
              "    </tr>\n",
              "  </tbody>\n",
              "</table>\n",
              "</div>\n",
              "    <div class=\"colab-df-buttons\">\n",
              "\n",
              "  <div class=\"colab-df-container\">\n",
              "    <button class=\"colab-df-convert\" onclick=\"convertToInteractive('df-bac089dc-741f-4992-8548-c9dd71093c30')\"\n",
              "            title=\"Convert this dataframe to an interactive table.\"\n",
              "            style=\"display:none;\">\n",
              "\n",
              "  <svg xmlns=\"http://www.w3.org/2000/svg\" height=\"24px\" viewBox=\"0 -960 960 960\">\n",
              "    <path d=\"M120-120v-720h720v720H120Zm60-500h600v-160H180v160Zm220 220h160v-160H400v160Zm0 220h160v-160H400v160ZM180-400h160v-160H180v160Zm440 0h160v-160H620v160ZM180-180h160v-160H180v160Zm440 0h160v-160H620v160Z\"/>\n",
              "  </svg>\n",
              "    </button>\n",
              "\n",
              "  <style>\n",
              "    .colab-df-container {\n",
              "      display:flex;\n",
              "      gap: 12px;\n",
              "    }\n",
              "\n",
              "    .colab-df-convert {\n",
              "      background-color: #E8F0FE;\n",
              "      border: none;\n",
              "      border-radius: 50%;\n",
              "      cursor: pointer;\n",
              "      display: none;\n",
              "      fill: #1967D2;\n",
              "      height: 32px;\n",
              "      padding: 0 0 0 0;\n",
              "      width: 32px;\n",
              "    }\n",
              "\n",
              "    .colab-df-convert:hover {\n",
              "      background-color: #E2EBFA;\n",
              "      box-shadow: 0px 1px 2px rgba(60, 64, 67, 0.3), 0px 1px 3px 1px rgba(60, 64, 67, 0.15);\n",
              "      fill: #174EA6;\n",
              "    }\n",
              "\n",
              "    .colab-df-buttons div {\n",
              "      margin-bottom: 4px;\n",
              "    }\n",
              "\n",
              "    [theme=dark] .colab-df-convert {\n",
              "      background-color: #3B4455;\n",
              "      fill: #D2E3FC;\n",
              "    }\n",
              "\n",
              "    [theme=dark] .colab-df-convert:hover {\n",
              "      background-color: #434B5C;\n",
              "      box-shadow: 0px 1px 3px 1px rgba(0, 0, 0, 0.15);\n",
              "      filter: drop-shadow(0px 1px 2px rgba(0, 0, 0, 0.3));\n",
              "      fill: #FFFFFF;\n",
              "    }\n",
              "  </style>\n",
              "\n",
              "    <script>\n",
              "      const buttonEl =\n",
              "        document.querySelector('#df-bac089dc-741f-4992-8548-c9dd71093c30 button.colab-df-convert');\n",
              "      buttonEl.style.display =\n",
              "        google.colab.kernel.accessAllowed ? 'block' : 'none';\n",
              "\n",
              "      async function convertToInteractive(key) {\n",
              "        const element = document.querySelector('#df-bac089dc-741f-4992-8548-c9dd71093c30');\n",
              "        const dataTable =\n",
              "          await google.colab.kernel.invokeFunction('convertToInteractive',\n",
              "                                                    [key], {});\n",
              "        if (!dataTable) return;\n",
              "\n",
              "        const docLinkHtml = 'Like what you see? Visit the ' +\n",
              "          '<a target=\"_blank\" href=https://colab.research.google.com/notebooks/data_table.ipynb>data table notebook</a>'\n",
              "          + ' to learn more about interactive tables.';\n",
              "        element.innerHTML = '';\n",
              "        dataTable['output_type'] = 'display_data';\n",
              "        await google.colab.output.renderOutput(dataTable, element);\n",
              "        const docLink = document.createElement('div');\n",
              "        docLink.innerHTML = docLinkHtml;\n",
              "        element.appendChild(docLink);\n",
              "      }\n",
              "    </script>\n",
              "  </div>\n",
              "\n",
              "\n",
              "    <div id=\"df-df0863c8-80a6-4e80-b0a8-b9f01a04a8c3\">\n",
              "      <button class=\"colab-df-quickchart\" onclick=\"quickchart('df-df0863c8-80a6-4e80-b0a8-b9f01a04a8c3')\"\n",
              "                title=\"Suggest charts\"\n",
              "                style=\"display:none;\">\n",
              "\n",
              "<svg xmlns=\"http://www.w3.org/2000/svg\" height=\"24px\"viewBox=\"0 0 24 24\"\n",
              "     width=\"24px\">\n",
              "    <g>\n",
              "        <path d=\"M19 3H5c-1.1 0-2 .9-2 2v14c0 1.1.9 2 2 2h14c1.1 0 2-.9 2-2V5c0-1.1-.9-2-2-2zM9 17H7v-7h2v7zm4 0h-2V7h2v10zm4 0h-2v-4h2v4z\"/>\n",
              "    </g>\n",
              "</svg>\n",
              "      </button>\n",
              "\n",
              "<style>\n",
              "  .colab-df-quickchart {\n",
              "      --bg-color: #E8F0FE;\n",
              "      --fill-color: #1967D2;\n",
              "      --hover-bg-color: #E2EBFA;\n",
              "      --hover-fill-color: #174EA6;\n",
              "      --disabled-fill-color: #AAA;\n",
              "      --disabled-bg-color: #DDD;\n",
              "  }\n",
              "\n",
              "  [theme=dark] .colab-df-quickchart {\n",
              "      --bg-color: #3B4455;\n",
              "      --fill-color: #D2E3FC;\n",
              "      --hover-bg-color: #434B5C;\n",
              "      --hover-fill-color: #FFFFFF;\n",
              "      --disabled-bg-color: #3B4455;\n",
              "      --disabled-fill-color: #666;\n",
              "  }\n",
              "\n",
              "  .colab-df-quickchart {\n",
              "    background-color: var(--bg-color);\n",
              "    border: none;\n",
              "    border-radius: 50%;\n",
              "    cursor: pointer;\n",
              "    display: none;\n",
              "    fill: var(--fill-color);\n",
              "    height: 32px;\n",
              "    padding: 0;\n",
              "    width: 32px;\n",
              "  }\n",
              "\n",
              "  .colab-df-quickchart:hover {\n",
              "    background-color: var(--hover-bg-color);\n",
              "    box-shadow: 0 1px 2px rgba(60, 64, 67, 0.3), 0 1px 3px 1px rgba(60, 64, 67, 0.15);\n",
              "    fill: var(--button-hover-fill-color);\n",
              "  }\n",
              "\n",
              "  .colab-df-quickchart-complete:disabled,\n",
              "  .colab-df-quickchart-complete:disabled:hover {\n",
              "    background-color: var(--disabled-bg-color);\n",
              "    fill: var(--disabled-fill-color);\n",
              "    box-shadow: none;\n",
              "  }\n",
              "\n",
              "  .colab-df-spinner {\n",
              "    border: 2px solid var(--fill-color);\n",
              "    border-color: transparent;\n",
              "    border-bottom-color: var(--fill-color);\n",
              "    animation:\n",
              "      spin 1s steps(1) infinite;\n",
              "  }\n",
              "\n",
              "  @keyframes spin {\n",
              "    0% {\n",
              "      border-color: transparent;\n",
              "      border-bottom-color: var(--fill-color);\n",
              "      border-left-color: var(--fill-color);\n",
              "    }\n",
              "    20% {\n",
              "      border-color: transparent;\n",
              "      border-left-color: var(--fill-color);\n",
              "      border-top-color: var(--fill-color);\n",
              "    }\n",
              "    30% {\n",
              "      border-color: transparent;\n",
              "      border-left-color: var(--fill-color);\n",
              "      border-top-color: var(--fill-color);\n",
              "      border-right-color: var(--fill-color);\n",
              "    }\n",
              "    40% {\n",
              "      border-color: transparent;\n",
              "      border-right-color: var(--fill-color);\n",
              "      border-top-color: var(--fill-color);\n",
              "    }\n",
              "    60% {\n",
              "      border-color: transparent;\n",
              "      border-right-color: var(--fill-color);\n",
              "    }\n",
              "    80% {\n",
              "      border-color: transparent;\n",
              "      border-right-color: var(--fill-color);\n",
              "      border-bottom-color: var(--fill-color);\n",
              "    }\n",
              "    90% {\n",
              "      border-color: transparent;\n",
              "      border-bottom-color: var(--fill-color);\n",
              "    }\n",
              "  }\n",
              "</style>\n",
              "\n",
              "      <script>\n",
              "        async function quickchart(key) {\n",
              "          const quickchartButtonEl =\n",
              "            document.querySelector('#' + key + ' button');\n",
              "          quickchartButtonEl.disabled = true;  // To prevent multiple clicks.\n",
              "          quickchartButtonEl.classList.add('colab-df-spinner');\n",
              "          try {\n",
              "            const charts = await google.colab.kernel.invokeFunction(\n",
              "                'suggestCharts', [key], {});\n",
              "          } catch (error) {\n",
              "            console.error('Error during call to suggestCharts:', error);\n",
              "          }\n",
              "          quickchartButtonEl.classList.remove('colab-df-spinner');\n",
              "          quickchartButtonEl.classList.add('colab-df-quickchart-complete');\n",
              "        }\n",
              "        (() => {\n",
              "          let quickchartButtonEl =\n",
              "            document.querySelector('#df-df0863c8-80a6-4e80-b0a8-b9f01a04a8c3 button');\n",
              "          quickchartButtonEl.style.display =\n",
              "            google.colab.kernel.accessAllowed ? 'block' : 'none';\n",
              "        })();\n",
              "      </script>\n",
              "    </div>\n",
              "\n",
              "    </div>\n",
              "  </div>\n"
            ],
            "application/vnd.google.colaboratory.intrinsic+json": {
              "type": "dataframe",
              "variable_name": "df",
              "summary": "{\n  \"name\": \"df\",\n  \"rows\": 50,\n  \"fields\": [\n    {\n      \"column\": \"review_id\",\n      \"properties\": {\n        \"dtype\": \"number\",\n        \"std\": 14,\n        \"min\": 1,\n        \"max\": 50,\n        \"num_unique_values\": 50,\n        \"samples\": [\n          14,\n          40,\n          31\n        ],\n        \"semantic_type\": \"\",\n        \"description\": \"\"\n      }\n    },\n    {\n      \"column\": \"product_id\",\n      \"properties\": {\n        \"dtype\": \"category\",\n        \"num_unique_values\": 10,\n        \"samples\": [\n          \"P109\",\n          \"P102\",\n          \"P106\"\n        ],\n        \"semantic_type\": \"\",\n        \"description\": \"\"\n      }\n    },\n    {\n      \"column\": \"review_text\",\n      \"properties\": {\n        \"dtype\": \"string\",\n        \"num_unique_values\": 50,\n        \"samples\": [\n          \"Performance is top-notch for its price range.\",\n          \"Perfect for movie watching.\",\n          \"Rugged and durable, survives drops easily.\"\n        ],\n        \"semantic_type\": \"\",\n        \"description\": \"\"\n      }\n    },\n    {\n      \"column\": \"rating\",\n      \"properties\": {\n        \"dtype\": \"number\",\n        \"std\": 1,\n        \"min\": 1,\n        \"max\": 5,\n        \"num_unique_values\": 5,\n        \"samples\": [\n          4,\n          3,\n          2\n        ],\n        \"semantic_type\": \"\",\n        \"description\": \"\"\n      }\n    }\n  ]\n}"
            }
          },
          "metadata": {},
          "execution_count": 55
        }
      ]
    },
    {
      "cell_type": "code",
      "source": [
        "### preprocessing of the Data\n",
        "\n",
        "def preprocess_text(text):\n",
        "  text = re.sub(r\"\\s+\", \" \", text) #remove the extra spaces\n",
        "  text = re.sub(r\"[^a-zA-Z0-9\\s]\", \" \", text) # removing the punctuation\n",
        "  return text.strip().lower()"
      ],
      "metadata": {
        "id": "H5ptrtc7FAtg"
      },
      "execution_count": 56,
      "outputs": []
    },
    {
      "cell_type": "code",
      "source": [
        "df['Clean_text'] = df['review_text'].astype('str').apply(preprocess_text)\n",
        "df['Clean_text'].head()"
      ],
      "metadata": {
        "colab": {
          "base_uri": "https://localhost:8080/",
          "height": 240
        },
        "id": "6RFwTSXFG2Z6",
        "outputId": "e2af0b8d-b9ba-4186-8ab2-b44716615d32"
      },
      "execution_count": 57,
      "outputs": [
        {
          "output_type": "execute_result",
          "data": {
            "text/plain": [
              "0    excellent battery life and superb camera quali...\n",
              "1    the phone lasts two days on a single charge  g...\n",
              "2            battery is good but the screen is average\n",
              "3         amazing camera but the design feels outdated\n",
              "4                    very reliable battery performance\n",
              "Name: Clean_text, dtype: object"
            ],
            "text/html": [
              "<div>\n",
              "<style scoped>\n",
              "    .dataframe tbody tr th:only-of-type {\n",
              "        vertical-align: middle;\n",
              "    }\n",
              "\n",
              "    .dataframe tbody tr th {\n",
              "        vertical-align: top;\n",
              "    }\n",
              "\n",
              "    .dataframe thead th {\n",
              "        text-align: right;\n",
              "    }\n",
              "</style>\n",
              "<table border=\"1\" class=\"dataframe\">\n",
              "  <thead>\n",
              "    <tr style=\"text-align: right;\">\n",
              "      <th></th>\n",
              "      <th>Clean_text</th>\n",
              "    </tr>\n",
              "  </thead>\n",
              "  <tbody>\n",
              "    <tr>\n",
              "      <th>0</th>\n",
              "      <td>excellent battery life and superb camera quali...</td>\n",
              "    </tr>\n",
              "    <tr>\n",
              "      <th>1</th>\n",
              "      <td>the phone lasts two days on a single charge  g...</td>\n",
              "    </tr>\n",
              "    <tr>\n",
              "      <th>2</th>\n",
              "      <td>battery is good but the screen is average</td>\n",
              "    </tr>\n",
              "    <tr>\n",
              "      <th>3</th>\n",
              "      <td>amazing camera but the design feels outdated</td>\n",
              "    </tr>\n",
              "    <tr>\n",
              "      <th>4</th>\n",
              "      <td>very reliable battery performance</td>\n",
              "    </tr>\n",
              "  </tbody>\n",
              "</table>\n",
              "</div><br><label><b>dtype:</b> object</label>"
            ]
          },
          "metadata": {},
          "execution_count": 57
        }
      ]
    },
    {
      "cell_type": "code",
      "source": [
        "df.head()"
      ],
      "metadata": {
        "colab": {
          "base_uri": "https://localhost:8080/",
          "height": 206
        },
        "id": "rlJCIzV2HHsC",
        "outputId": "44923c2f-adcc-4907-c4ef-b8a5bd26fb6c"
      },
      "execution_count": 58,
      "outputs": [
        {
          "output_type": "execute_result",
          "data": {
            "text/plain": [
              "   review_id product_id                                        review_text  \\\n",
              "0          1       P101  Excellent battery life and superb camera quali...   \n",
              "1          2       P101  The phone lasts two days on a single charge, g...   \n",
              "2          3       P101         Battery is good but the screen is average.   \n",
              "3          4       P101      Amazing camera but the design feels outdated.   \n",
              "4          5       P101                 Very reliable battery performance.   \n",
              "\n",
              "   rating                                         Clean_text  \n",
              "0       5  excellent battery life and superb camera quali...  \n",
              "1       5  the phone lasts two days on a single charge  g...  \n",
              "2       4          battery is good but the screen is average  \n",
              "3       4       amazing camera but the design feels outdated  \n",
              "4       5                  very reliable battery performance  "
            ],
            "text/html": [
              "\n",
              "  <div id=\"df-2110e143-4046-41b0-9623-9635af82532c\" class=\"colab-df-container\">\n",
              "    <div>\n",
              "<style scoped>\n",
              "    .dataframe tbody tr th:only-of-type {\n",
              "        vertical-align: middle;\n",
              "    }\n",
              "\n",
              "    .dataframe tbody tr th {\n",
              "        vertical-align: top;\n",
              "    }\n",
              "\n",
              "    .dataframe thead th {\n",
              "        text-align: right;\n",
              "    }\n",
              "</style>\n",
              "<table border=\"1\" class=\"dataframe\">\n",
              "  <thead>\n",
              "    <tr style=\"text-align: right;\">\n",
              "      <th></th>\n",
              "      <th>review_id</th>\n",
              "      <th>product_id</th>\n",
              "      <th>review_text</th>\n",
              "      <th>rating</th>\n",
              "      <th>Clean_text</th>\n",
              "    </tr>\n",
              "  </thead>\n",
              "  <tbody>\n",
              "    <tr>\n",
              "      <th>0</th>\n",
              "      <td>1</td>\n",
              "      <td>P101</td>\n",
              "      <td>Excellent battery life and superb camera quali...</td>\n",
              "      <td>5</td>\n",
              "      <td>excellent battery life and superb camera quali...</td>\n",
              "    </tr>\n",
              "    <tr>\n",
              "      <th>1</th>\n",
              "      <td>2</td>\n",
              "      <td>P101</td>\n",
              "      <td>The phone lasts two days on a single charge, g...</td>\n",
              "      <td>5</td>\n",
              "      <td>the phone lasts two days on a single charge  g...</td>\n",
              "    </tr>\n",
              "    <tr>\n",
              "      <th>2</th>\n",
              "      <td>3</td>\n",
              "      <td>P101</td>\n",
              "      <td>Battery is good but the screen is average.</td>\n",
              "      <td>4</td>\n",
              "      <td>battery is good but the screen is average</td>\n",
              "    </tr>\n",
              "    <tr>\n",
              "      <th>3</th>\n",
              "      <td>4</td>\n",
              "      <td>P101</td>\n",
              "      <td>Amazing camera but the design feels outdated.</td>\n",
              "      <td>4</td>\n",
              "      <td>amazing camera but the design feels outdated</td>\n",
              "    </tr>\n",
              "    <tr>\n",
              "      <th>4</th>\n",
              "      <td>5</td>\n",
              "      <td>P101</td>\n",
              "      <td>Very reliable battery performance.</td>\n",
              "      <td>5</td>\n",
              "      <td>very reliable battery performance</td>\n",
              "    </tr>\n",
              "  </tbody>\n",
              "</table>\n",
              "</div>\n",
              "    <div class=\"colab-df-buttons\">\n",
              "\n",
              "  <div class=\"colab-df-container\">\n",
              "    <button class=\"colab-df-convert\" onclick=\"convertToInteractive('df-2110e143-4046-41b0-9623-9635af82532c')\"\n",
              "            title=\"Convert this dataframe to an interactive table.\"\n",
              "            style=\"display:none;\">\n",
              "\n",
              "  <svg xmlns=\"http://www.w3.org/2000/svg\" height=\"24px\" viewBox=\"0 -960 960 960\">\n",
              "    <path d=\"M120-120v-720h720v720H120Zm60-500h600v-160H180v160Zm220 220h160v-160H400v160Zm0 220h160v-160H400v160ZM180-400h160v-160H180v160Zm440 0h160v-160H620v160ZM180-180h160v-160H180v160Zm440 0h160v-160H620v160Z\"/>\n",
              "  </svg>\n",
              "    </button>\n",
              "\n",
              "  <style>\n",
              "    .colab-df-container {\n",
              "      display:flex;\n",
              "      gap: 12px;\n",
              "    }\n",
              "\n",
              "    .colab-df-convert {\n",
              "      background-color: #E8F0FE;\n",
              "      border: none;\n",
              "      border-radius: 50%;\n",
              "      cursor: pointer;\n",
              "      display: none;\n",
              "      fill: #1967D2;\n",
              "      height: 32px;\n",
              "      padding: 0 0 0 0;\n",
              "      width: 32px;\n",
              "    }\n",
              "\n",
              "    .colab-df-convert:hover {\n",
              "      background-color: #E2EBFA;\n",
              "      box-shadow: 0px 1px 2px rgba(60, 64, 67, 0.3), 0px 1px 3px 1px rgba(60, 64, 67, 0.15);\n",
              "      fill: #174EA6;\n",
              "    }\n",
              "\n",
              "    .colab-df-buttons div {\n",
              "      margin-bottom: 4px;\n",
              "    }\n",
              "\n",
              "    [theme=dark] .colab-df-convert {\n",
              "      background-color: #3B4455;\n",
              "      fill: #D2E3FC;\n",
              "    }\n",
              "\n",
              "    [theme=dark] .colab-df-convert:hover {\n",
              "      background-color: #434B5C;\n",
              "      box-shadow: 0px 1px 3px 1px rgba(0, 0, 0, 0.15);\n",
              "      filter: drop-shadow(0px 1px 2px rgba(0, 0, 0, 0.3));\n",
              "      fill: #FFFFFF;\n",
              "    }\n",
              "  </style>\n",
              "\n",
              "    <script>\n",
              "      const buttonEl =\n",
              "        document.querySelector('#df-2110e143-4046-41b0-9623-9635af82532c button.colab-df-convert');\n",
              "      buttonEl.style.display =\n",
              "        google.colab.kernel.accessAllowed ? 'block' : 'none';\n",
              "\n",
              "      async function convertToInteractive(key) {\n",
              "        const element = document.querySelector('#df-2110e143-4046-41b0-9623-9635af82532c');\n",
              "        const dataTable =\n",
              "          await google.colab.kernel.invokeFunction('convertToInteractive',\n",
              "                                                    [key], {});\n",
              "        if (!dataTable) return;\n",
              "\n",
              "        const docLinkHtml = 'Like what you see? Visit the ' +\n",
              "          '<a target=\"_blank\" href=https://colab.research.google.com/notebooks/data_table.ipynb>data table notebook</a>'\n",
              "          + ' to learn more about interactive tables.';\n",
              "        element.innerHTML = '';\n",
              "        dataTable['output_type'] = 'display_data';\n",
              "        await google.colab.output.renderOutput(dataTable, element);\n",
              "        const docLink = document.createElement('div');\n",
              "        docLink.innerHTML = docLinkHtml;\n",
              "        element.appendChild(docLink);\n",
              "      }\n",
              "    </script>\n",
              "  </div>\n",
              "\n",
              "\n",
              "    <div id=\"df-4efb136b-380c-4102-9704-c4dbe303b298\">\n",
              "      <button class=\"colab-df-quickchart\" onclick=\"quickchart('df-4efb136b-380c-4102-9704-c4dbe303b298')\"\n",
              "                title=\"Suggest charts\"\n",
              "                style=\"display:none;\">\n",
              "\n",
              "<svg xmlns=\"http://www.w3.org/2000/svg\" height=\"24px\"viewBox=\"0 0 24 24\"\n",
              "     width=\"24px\">\n",
              "    <g>\n",
              "        <path d=\"M19 3H5c-1.1 0-2 .9-2 2v14c0 1.1.9 2 2 2h14c1.1 0 2-.9 2-2V5c0-1.1-.9-2-2-2zM9 17H7v-7h2v7zm4 0h-2V7h2v10zm4 0h-2v-4h2v4z\"/>\n",
              "    </g>\n",
              "</svg>\n",
              "      </button>\n",
              "\n",
              "<style>\n",
              "  .colab-df-quickchart {\n",
              "      --bg-color: #E8F0FE;\n",
              "      --fill-color: #1967D2;\n",
              "      --hover-bg-color: #E2EBFA;\n",
              "      --hover-fill-color: #174EA6;\n",
              "      --disabled-fill-color: #AAA;\n",
              "      --disabled-bg-color: #DDD;\n",
              "  }\n",
              "\n",
              "  [theme=dark] .colab-df-quickchart {\n",
              "      --bg-color: #3B4455;\n",
              "      --fill-color: #D2E3FC;\n",
              "      --hover-bg-color: #434B5C;\n",
              "      --hover-fill-color: #FFFFFF;\n",
              "      --disabled-bg-color: #3B4455;\n",
              "      --disabled-fill-color: #666;\n",
              "  }\n",
              "\n",
              "  .colab-df-quickchart {\n",
              "    background-color: var(--bg-color);\n",
              "    border: none;\n",
              "    border-radius: 50%;\n",
              "    cursor: pointer;\n",
              "    display: none;\n",
              "    fill: var(--fill-color);\n",
              "    height: 32px;\n",
              "    padding: 0;\n",
              "    width: 32px;\n",
              "  }\n",
              "\n",
              "  .colab-df-quickchart:hover {\n",
              "    background-color: var(--hover-bg-color);\n",
              "    box-shadow: 0 1px 2px rgba(60, 64, 67, 0.3), 0 1px 3px 1px rgba(60, 64, 67, 0.15);\n",
              "    fill: var(--button-hover-fill-color);\n",
              "  }\n",
              "\n",
              "  .colab-df-quickchart-complete:disabled,\n",
              "  .colab-df-quickchart-complete:disabled:hover {\n",
              "    background-color: var(--disabled-bg-color);\n",
              "    fill: var(--disabled-fill-color);\n",
              "    box-shadow: none;\n",
              "  }\n",
              "\n",
              "  .colab-df-spinner {\n",
              "    border: 2px solid var(--fill-color);\n",
              "    border-color: transparent;\n",
              "    border-bottom-color: var(--fill-color);\n",
              "    animation:\n",
              "      spin 1s steps(1) infinite;\n",
              "  }\n",
              "\n",
              "  @keyframes spin {\n",
              "    0% {\n",
              "      border-color: transparent;\n",
              "      border-bottom-color: var(--fill-color);\n",
              "      border-left-color: var(--fill-color);\n",
              "    }\n",
              "    20% {\n",
              "      border-color: transparent;\n",
              "      border-left-color: var(--fill-color);\n",
              "      border-top-color: var(--fill-color);\n",
              "    }\n",
              "    30% {\n",
              "      border-color: transparent;\n",
              "      border-left-color: var(--fill-color);\n",
              "      border-top-color: var(--fill-color);\n",
              "      border-right-color: var(--fill-color);\n",
              "    }\n",
              "    40% {\n",
              "      border-color: transparent;\n",
              "      border-right-color: var(--fill-color);\n",
              "      border-top-color: var(--fill-color);\n",
              "    }\n",
              "    60% {\n",
              "      border-color: transparent;\n",
              "      border-right-color: var(--fill-color);\n",
              "    }\n",
              "    80% {\n",
              "      border-color: transparent;\n",
              "      border-right-color: var(--fill-color);\n",
              "      border-bottom-color: var(--fill-color);\n",
              "    }\n",
              "    90% {\n",
              "      border-color: transparent;\n",
              "      border-bottom-color: var(--fill-color);\n",
              "    }\n",
              "  }\n",
              "</style>\n",
              "\n",
              "      <script>\n",
              "        async function quickchart(key) {\n",
              "          const quickchartButtonEl =\n",
              "            document.querySelector('#' + key + ' button');\n",
              "          quickchartButtonEl.disabled = true;  // To prevent multiple clicks.\n",
              "          quickchartButtonEl.classList.add('colab-df-spinner');\n",
              "          try {\n",
              "            const charts = await google.colab.kernel.invokeFunction(\n",
              "                'suggestCharts', [key], {});\n",
              "          } catch (error) {\n",
              "            console.error('Error during call to suggestCharts:', error);\n",
              "          }\n",
              "          quickchartButtonEl.classList.remove('colab-df-spinner');\n",
              "          quickchartButtonEl.classList.add('colab-df-quickchart-complete');\n",
              "        }\n",
              "        (() => {\n",
              "          let quickchartButtonEl =\n",
              "            document.querySelector('#df-4efb136b-380c-4102-9704-c4dbe303b298 button');\n",
              "          quickchartButtonEl.style.display =\n",
              "            google.colab.kernel.accessAllowed ? 'block' : 'none';\n",
              "        })();\n",
              "      </script>\n",
              "    </div>\n",
              "\n",
              "    </div>\n",
              "  </div>\n"
            ],
            "application/vnd.google.colaboratory.intrinsic+json": {
              "type": "dataframe",
              "variable_name": "df",
              "summary": "{\n  \"name\": \"df\",\n  \"rows\": 50,\n  \"fields\": [\n    {\n      \"column\": \"review_id\",\n      \"properties\": {\n        \"dtype\": \"number\",\n        \"std\": 14,\n        \"min\": 1,\n        \"max\": 50,\n        \"num_unique_values\": 50,\n        \"samples\": [\n          14,\n          40,\n          31\n        ],\n        \"semantic_type\": \"\",\n        \"description\": \"\"\n      }\n    },\n    {\n      \"column\": \"product_id\",\n      \"properties\": {\n        \"dtype\": \"category\",\n        \"num_unique_values\": 10,\n        \"samples\": [\n          \"P109\",\n          \"P102\",\n          \"P106\"\n        ],\n        \"semantic_type\": \"\",\n        \"description\": \"\"\n      }\n    },\n    {\n      \"column\": \"review_text\",\n      \"properties\": {\n        \"dtype\": \"string\",\n        \"num_unique_values\": 50,\n        \"samples\": [\n          \"Performance is top-notch for its price range.\",\n          \"Perfect for movie watching.\",\n          \"Rugged and durable, survives drops easily.\"\n        ],\n        \"semantic_type\": \"\",\n        \"description\": \"\"\n      }\n    },\n    {\n      \"column\": \"rating\",\n      \"properties\": {\n        \"dtype\": \"number\",\n        \"std\": 1,\n        \"min\": 1,\n        \"max\": 5,\n        \"num_unique_values\": 5,\n        \"samples\": [\n          4,\n          3,\n          2\n        ],\n        \"semantic_type\": \"\",\n        \"description\": \"\"\n      }\n    },\n    {\n      \"column\": \"Clean_text\",\n      \"properties\": {\n        \"dtype\": \"string\",\n        \"num_unique_values\": 50,\n        \"samples\": [\n          \"performance is top notch for its price range\",\n          \"perfect for movie watching\",\n          \"rugged and durable  survives drops easily\"\n        ],\n        \"semantic_type\": \"\",\n        \"description\": \"\"\n      }\n    }\n  ]\n}"
            }
          },
          "metadata": {},
          "execution_count": 58
        }
      ]
    },
    {
      "cell_type": "code",
      "source": [
        "## Chunkings\n",
        "\n",
        "def chunk_text(text, chunk_size=50):\n",
        "  words = text.split()\n",
        "  return [\" \".join(words[i:i+chunk_size]) for i in range(0, len(words), chunk_size)]\n"
      ],
      "metadata": {
        "id": "zyesr1AaIJWi"
      },
      "execution_count": 59,
      "outputs": []
    },
    {
      "cell_type": "code",
      "source": [
        "chunks = []\n",
        "metadata = []\n",
        "for idx, row in df.iterrows():\n",
        "  for chunk in chunk_text(row['Clean_text']):\n",
        "    chunks.append(chunk)\n",
        "    metadata.append({'product_id': row['product_id'], 'review_id': row['review_id']})\n",
        "\n",
        ""
      ],
      "metadata": {
        "collapsed": true,
        "id": "EAtYmfmBJnKr"
      },
      "execution_count": 60,
      "outputs": []
    },
    {
      "cell_type": "code",
      "source": [
        "metadata"
      ],
      "metadata": {
        "colab": {
          "base_uri": "https://localhost:8080/"
        },
        "collapsed": true,
        "id": "Xv2gmPXcKWuA",
        "outputId": "545aeaa9-b694-4f39-cdf0-a44d5297caa8"
      },
      "execution_count": 61,
      "outputs": [
        {
          "output_type": "execute_result",
          "data": {
            "text/plain": [
              "[{'product_id': 'P101', 'review_id': 1},\n",
              " {'product_id': 'P101', 'review_id': 2},\n",
              " {'product_id': 'P101', 'review_id': 3},\n",
              " {'product_id': 'P101', 'review_id': 4},\n",
              " {'product_id': 'P101', 'review_id': 5},\n",
              " {'product_id': 'P102', 'review_id': 6},\n",
              " {'product_id': 'P102', 'review_id': 7},\n",
              " {'product_id': 'P102', 'review_id': 8},\n",
              " {'product_id': 'P102', 'review_id': 9},\n",
              " {'product_id': 'P102', 'review_id': 10},\n",
              " {'product_id': 'P103', 'review_id': 11},\n",
              " {'product_id': 'P103', 'review_id': 12},\n",
              " {'product_id': 'P103', 'review_id': 13},\n",
              " {'product_id': 'P103', 'review_id': 14},\n",
              " {'product_id': 'P103', 'review_id': 15},\n",
              " {'product_id': 'P104', 'review_id': 16},\n",
              " {'product_id': 'P104', 'review_id': 17},\n",
              " {'product_id': 'P104', 'review_id': 18},\n",
              " {'product_id': 'P104', 'review_id': 19},\n",
              " {'product_id': 'P104', 'review_id': 20},\n",
              " {'product_id': 'P105', 'review_id': 21},\n",
              " {'product_id': 'P105', 'review_id': 22},\n",
              " {'product_id': 'P105', 'review_id': 23},\n",
              " {'product_id': 'P105', 'review_id': 24},\n",
              " {'product_id': 'P105', 'review_id': 25},\n",
              " {'product_id': 'P106', 'review_id': 26},\n",
              " {'product_id': 'P106', 'review_id': 27},\n",
              " {'product_id': 'P106', 'review_id': 28},\n",
              " {'product_id': 'P106', 'review_id': 29},\n",
              " {'product_id': 'P106', 'review_id': 30},\n",
              " {'product_id': 'P107', 'review_id': 31},\n",
              " {'product_id': 'P107', 'review_id': 32},\n",
              " {'product_id': 'P107', 'review_id': 33},\n",
              " {'product_id': 'P107', 'review_id': 34},\n",
              " {'product_id': 'P107', 'review_id': 35},\n",
              " {'product_id': 'P108', 'review_id': 36},\n",
              " {'product_id': 'P108', 'review_id': 37},\n",
              " {'product_id': 'P108', 'review_id': 38},\n",
              " {'product_id': 'P108', 'review_id': 39},\n",
              " {'product_id': 'P108', 'review_id': 40},\n",
              " {'product_id': 'P109', 'review_id': 41},\n",
              " {'product_id': 'P109', 'review_id': 42},\n",
              " {'product_id': 'P109', 'review_id': 43},\n",
              " {'product_id': 'P109', 'review_id': 44},\n",
              " {'product_id': 'P109', 'review_id': 45},\n",
              " {'product_id': 'P110', 'review_id': 46},\n",
              " {'product_id': 'P110', 'review_id': 47},\n",
              " {'product_id': 'P110', 'review_id': 48},\n",
              " {'product_id': 'P110', 'review_id': 49},\n",
              " {'product_id': 'P110', 'review_id': 50}]"
            ]
          },
          "metadata": {},
          "execution_count": 61
        }
      ]
    },
    {
      "cell_type": "code",
      "source": [
        "chunks"
      ],
      "metadata": {
        "colab": {
          "base_uri": "https://localhost:8080/"
        },
        "collapsed": true,
        "id": "11u_VHFSKzBF",
        "outputId": "5293147b-01d7-4829-db45-6fac17b93bad"
      },
      "execution_count": 62,
      "outputs": [
        {
          "output_type": "execute_result",
          "data": {
            "text/plain": [
              "['excellent battery life and superb camera quality highly recommended for travelers',\n",
              " 'the phone lasts two days on a single charge great for outdoor use',\n",
              " 'battery is good but the screen is average',\n",
              " 'amazing camera but the design feels outdated',\n",
              " 'very reliable battery performance',\n",
              " 'poor performance lags frequently when opening apps',\n",
              " 'camera quality is below average not recommended',\n",
              " 'the phone heats up quickly during use',\n",
              " 'touch response is slow and frustrating',\n",
              " 'good design but very slow',\n",
              " 'blazing fast performance and smooth multitasking',\n",
              " 'runs heavy games without lag excellent speed',\n",
              " 'very responsive and fast loading times',\n",
              " 'performance is top notch for its price range',\n",
              " 'incredible speed but battery drains fast',\n",
              " 'extremely lightweight and portable great for travel',\n",
              " 'slim design but battery life is short',\n",
              " 'very comfortable to carry around',\n",
              " 'lightweight but gets scratched easily',\n",
              " 'compact and fits in small bags',\n",
              " 'affordable and good value for money',\n",
              " 'budget friendly but camera is basic',\n",
              " 'great for basic use not for gaming',\n",
              " 'cheap but feels durable',\n",
              " 'low cost and works well for calls',\n",
              " 'excellent sound quality and deep bass',\n",
              " 'loud and clear audio perfect for music lovers',\n",
              " 'sound is crisp but treble is too high',\n",
              " 'impressive audio performance',\n",
              " 'best sound system i ve used in a phone',\n",
              " 'rugged and durable survives drops easily',\n",
              " 'solid build quality for harsh environments',\n",
              " 'very sturdy but heavy',\n",
              " 'feels strong but edges chip over time',\n",
              " 'perfect for construction site workers',\n",
              " 'bright and sharp display great for videos',\n",
              " 'screen resolution is amazing',\n",
              " 'vivid colors and high contrast',\n",
              " 'display quality is stunning but reflective in sunlight',\n",
              " 'perfect for movie watching',\n",
              " 'fast charging and long battery backup',\n",
              " 'charges to full in under an hour',\n",
              " 'very convenient charging speed',\n",
              " 'quick charge but battery drains in heavy use',\n",
              " 'superb charging experience',\n",
              " 'amazing camera zoom and detail capture',\n",
              " 'photo quality is professional grade',\n",
              " 'zoom works well but low light is average',\n",
              " 'crisp images with high dynamic range',\n",
              " 'best camera for wildlife photography']"
            ]
          },
          "metadata": {},
          "execution_count": 62
        }
      ]
    },
    {
      "cell_type": "code",
      "source": [
        "## Vectorization\n",
        "\n",
        "model = SentenceTransformer('sentence-transformers/all-MiniLM-L6-v2')\n",
        "embeddings = model.encode(chunks, convert_to_numpy= True)\n",
        "embeddings"
      ],
      "metadata": {
        "colab": {
          "base_uri": "https://localhost:8080/"
        },
        "collapsed": true,
        "id": "vEcM1WouK4_T",
        "outputId": "1cf64c4e-ec8f-4725-b7c9-a97c8377cbe7"
      },
      "execution_count": 63,
      "outputs": [
        {
          "output_type": "execute_result",
          "data": {
            "text/plain": [
              "array([[-0.03224297,  0.03523099, -0.00917663, ...,  0.00715621,\n",
              "        -0.05709261,  0.05280614],\n",
              "       [-0.00874082,  0.07436896,  0.09761342, ...,  0.00547879,\n",
              "        -0.06712592,  0.03938162],\n",
              "       [-0.02588259,  0.03064434,  0.00045392, ..., -0.01514561,\n",
              "        -0.01618077,  0.03101025],\n",
              "       ...,\n",
              "       [ 0.04114283, -0.04011743,  0.0312217 , ...,  0.01517776,\n",
              "        -0.1158591 ,  0.05362745],\n",
              "       [ 0.04344716, -0.00924653,  0.09080452, ..., -0.03844206,\n",
              "        -0.05648727,  0.02629595],\n",
              "       [-0.01125789,  0.01765033,  0.03668481, ..., -0.07615221,\n",
              "        -0.09957709,  0.06578503]], dtype=float32)"
            ]
          },
          "metadata": {},
          "execution_count": 63
        }
      ]
    },
    {
      "cell_type": "code",
      "source": [
        "### Storing the embeddings into Faiss\n",
        "\n",
        "dim = embeddings.shape[1]\n",
        "dim"
      ],
      "metadata": {
        "colab": {
          "base_uri": "https://localhost:8080/"
        },
        "id": "TzZ0x-kdQoW2",
        "outputId": "a76dda01-0172-4431-a1be-f531c699589d"
      },
      "execution_count": 64,
      "outputs": [
        {
          "output_type": "execute_result",
          "data": {
            "text/plain": [
              "384"
            ]
          },
          "metadata": {},
          "execution_count": 64
        }
      ]
    },
    {
      "cell_type": "code",
      "source": [
        "index = faiss.IndexFlatL2(dim)\n",
        "index.add(embeddings)"
      ],
      "metadata": {
        "id": "kPCuZ-EsRbmw"
      },
      "execution_count": 65,
      "outputs": []
    },
    {
      "cell_type": "code",
      "source": [
        "### Rag with LLM\n",
        "## take the relevant documents based on user query\n",
        "## also we take the metadata along with it\n",
        "## Prepare the context properly using the metadata and relevant documents\n",
        "## Pass that to LLM to get more precise results.\n",
        "\n",
        "def recommend_products(user_query, top_k=3):\n",
        "  query_vec = model.encode([user_query], convert_to_numpy=True)\n",
        "  distances, indices = index.search(query_vec, top_k)\n",
        "\n",
        "  # relevant Reviews\n",
        "  retrieved_chunks = [chunks[i] for i in indices[0]]\n",
        "  retrieved_metadata = [metadata[i] for i in indices[0]]\n",
        "\n",
        "  context = \"\\n\".join([f\"'Product'{m['product_id']}:{txt}\" for txt, m in zip(retrieved_chunks, retrieved_metadata)])\n",
        "\n",
        "  completion = client.chat.completions.create(\n",
        "    model=\"llama-3.1-8b-instant\",\n",
        "    messages=[\n",
        "      {\n",
        "        \"role\": \"system\",\n",
        "        \"content\": \"You are helpful Product Recommendation assistant.\"\n",
        "      },\n",
        "      {\n",
        "        \"role\": \"user\",\n",
        "        \"content\": f\"Based on the following customer reviews:\\n\\n{context}\\n\\nPlease recommend the best product for: {user_query}\\n\\nFormat your answer with bullet points.\"\n",
        "        #\"content\": f\"Based on the following customer reviews:\\n{context}.\\n\\n Suggest the best product for {user_query}\"\n",
        "      }\n",
        "    ],\n",
        "    temperature=0.2,\n",
        "    max_completion_tokens=200,\n",
        "  )\n",
        "\n",
        "  return completion.choices[0].message.content, retrieved_metadata"
      ],
      "metadata": {
        "id": "xBIxa2ghRvLC"
      },
      "execution_count": 66,
      "outputs": []
    },
    {
      "cell_type": "code",
      "source": [],
      "metadata": {
        "id": "2wRuYYcDgKe_"
      },
      "execution_count": 66,
      "outputs": []
    },
    {
      "cell_type": "code",
      "source": [
        "### Test Queires for Teaching\n",
        "\n",
        "test_queries = [('long battery life', 'P101'),\n",
        "                ('fast performance', 'P103')]\n",
        "\n",
        "test_queries"
      ],
      "metadata": {
        "colab": {
          "base_uri": "https://localhost:8080/"
        },
        "id": "GrCPpWhwiCiW",
        "outputId": "c2583b1e-5290-4a3f-b949-f3d150badf6e"
      },
      "execution_count": 67,
      "outputs": [
        {
          "output_type": "execute_result",
          "data": {
            "text/plain": [
              "[('long battery life', 'P101'), ('fast performance', 'P103')]"
            ]
          },
          "metadata": {},
          "execution_count": 67
        }
      ]
    },
    {
      "cell_type": "code",
      "source": [
        "correct = 0\n",
        "for query, expected_product in test_queries:\n",
        "  response, meta = recommend_products(query, top_k=1)\n",
        "  if meta[0]['product_id'] == expected_product:\n",
        "    correct += 1\n",
        "\n",
        "accuracy = correct / len(test_queries)\n",
        "print(f\"Accuracy: {accuracy}\")"
      ],
      "metadata": {
        "colab": {
          "base_uri": "https://localhost:8080/"
        },
        "id": "SXgxM8kKiaXe",
        "outputId": "e5d01792-7b37-480e-b362-1aa6617c8ca3"
      },
      "execution_count": 68,
      "outputs": [
        {
          "output_type": "stream",
          "name": "stdout",
          "text": [
            "Accuracy: 0.5\n"
          ]
        }
      ]
    },
    {
      "cell_type": "code",
      "source": [
        "recommendations = recommend_products('I need light weight camera phone')\n",
        "print(\"Find the recommendations: \\n\", recommendations)"
      ],
      "metadata": {
        "colab": {
          "base_uri": "https://localhost:8080/"
        },
        "id": "2Z67ceF5i-5T",
        "outputId": "95ffe37d-9ac7-4c1e-ac11-a5fcb3650cce"
      },
      "execution_count": 69,
      "outputs": [
        {
          "output_type": "stream",
          "name": "stdout",
          "text": [
            "Find the recommendations: \n",
            " ('Based on the customer reviews, here\\'s a recommendation for a lightweight camera phone:\\n\\n* **Recommended Product:** \\'Product\\'P104\\n* **Reason:** The customer review for \\'Product\\'P104 mentions that it is \"extremely lightweight and portable, great for travel\". This suggests that it is an ideal option for someone looking for a lightweight camera phone.', [{'product_id': 'P105', 'review_id': 22}, {'product_id': 'P104', 'review_id': 16}, {'product_id': 'P105', 'review_id': 25}])\n"
          ]
        }
      ]
    },
    {
      "cell_type": "code",
      "source": [
        "text, meta = recommend_products(\"I need light weight camera phone\")\n",
        "\n",
        "print(\"Find the recommendations:\\n\")\n",
        "print(text)  # This will respect \\n and format properly\n",
        "\n",
        "print(\"\\nMetadata:\")\n",
        "for item in meta:\n",
        "    print(item)\n"
      ],
      "metadata": {
        "colab": {
          "base_uri": "https://localhost:8080/"
        },
        "id": "OP3VCr-CnivR",
        "outputId": "6f4378c9-52b6-4c47-85c0-59d3e445f359"
      },
      "execution_count": 70,
      "outputs": [
        {
          "output_type": "stream",
          "name": "stdout",
          "text": [
            "Find the recommendations:\n",
            "\n",
            "Based on the customer reviews, here are the recommendations for a lightweight camera phone:\n",
            "\n",
            "* **Product P104**: This product is described as \"extremely lightweight and portable\", making it a great option for travel or those who want a compact camera phone.\n",
            "\n",
            "Metadata:\n",
            "{'product_id': 'P105', 'review_id': 22}\n",
            "{'product_id': 'P104', 'review_id': 16}\n",
            "{'product_id': 'P105', 'review_id': 25}\n"
          ]
        }
      ]
    },
    {
      "cell_type": "code",
      "source": [
        "## USE streamlit/Gradio for User interface"
      ],
      "metadata": {
        "id": "p2SUdGGKpTYO"
      },
      "execution_count": 71,
      "outputs": []
    }
  ]
}